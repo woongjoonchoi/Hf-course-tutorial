{
 "cells": [
  {
   "cell_type": "raw",
   "id": "2968fe45",
   "metadata": {},
   "source": [
    "hf datasets에서 squad 데이터를 loading 하세요"
   ]
  },
  {
   "cell_type": "code",
   "execution_count": null,
   "id": "a3d90d74",
   "metadata": {},
   "outputs": [],
   "source": []
  },
  {
   "cell_type": "raw",
   "id": "a3316d25",
   "metadata": {},
   "source": [
    "raw_datasets의 정보를 확인해보세요"
   ]
  },
  {
   "cell_type": "code",
   "execution_count": null,
   "id": "f008eb16",
   "metadata": {},
   "outputs": [],
   "source": []
  },
  {
   "cell_type": "raw",
   "id": "9a2593c9",
   "metadata": {},
   "source": [
    "raw_datasets의 train을 임의로 indexing 해서  context , question , answers를 출력해보세요"
   ]
  },
  {
   "cell_type": "code",
   "execution_count": null,
   "id": "4c1b0dee",
   "metadata": {},
   "outputs": [],
   "source": []
  },
  {
   "cell_type": "raw",
   "id": "1b3c4caa",
   "metadata": {},
   "source": [
    "정답 길이가 1이 아닌 text를 필터링 하세요"
   ]
  },
  {
   "cell_type": "code",
   "execution_count": null,
   "id": "4b290f75",
   "metadata": {},
   "outputs": [],
   "source": []
  },
  {
   "cell_type": "raw",
   "id": "fa96beec",
   "metadata": {},
   "source": [
    "validation의 경우 정답이 여러개일 수도 있다."
   ]
  },
  {
   "cell_type": "code",
   "execution_count": 11,
   "id": "1e53971e",
   "metadata": {},
   "outputs": [
    {
     "name": "stdout",
     "output_type": "stream",
     "text": [
      "{'answer_start': [177, 177, 177], 'text': ['Denver Broncos', 'Denver Broncos', 'Denver Broncos']}\n",
      "{'answer_start': [403, 355, 355], 'text': ['Santa Clara, California', \"Levi's Stadium\", \"Levi's Stadium in the San Francisco Bay Area at Santa Clara, California.\"]}\n"
     ]
    }
   ],
   "source": [
    "print(raw_datasets['validation'][0]['answers'])\n",
    "print(raw_datasets['validation'][2]['answers'])"
   ]
  },
  {
   "cell_type": "code",
   "execution_count": null,
   "id": "e18acf6f",
   "metadata": {},
   "outputs": [],
   "source": []
  }
 ],
 "metadata": {
  "kernelspec": {
   "display_name": "Python 3 (ipykernel)",
   "language": "python",
   "name": "python3"
  },
  "language_info": {
   "codemirror_mode": {
    "name": "ipython",
    "version": 3
   },
   "file_extension": ".py",
   "mimetype": "text/x-python",
   "name": "python",
   "nbconvert_exporter": "python",
   "pygments_lexer": "ipython3",
   "version": "3.7.11"
  }
 },
 "nbformat": 4,
 "nbformat_minor": 5
}
