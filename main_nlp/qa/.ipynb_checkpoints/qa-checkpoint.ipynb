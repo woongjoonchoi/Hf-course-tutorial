{
 "cells": [
  {
   "cell_type": "markdown",
   "id": "8fe05b65",
   "metadata": {},
   "source": [
    "hf datasets에서 squad 데이터를 loading 하세요"
   ]
  },
  {
   "cell_type": "code",
   "execution_count": null,
   "id": "62eec838",
   "metadata": {},
   "outputs": [],
   "source": []
  },
  {
   "cell_type": "markdown",
   "id": "b1e28f23",
   "metadata": {},
   "source": [
    "raw_datasets의 정보를 확인해보세요"
   ]
  },
  {
   "cell_type": "code",
   "execution_count": null,
   "id": "c96d3435",
   "metadata": {},
   "outputs": [],
   "source": []
  },
  {
   "cell_type": "markdown",
   "id": "ba213f16",
   "metadata": {},
   "source": [
    "raw_datasets의 train을 임의로 indexing 해서  context , question , answers를 출력해보세요"
   ]
  },
  {
   "cell_type": "code",
   "execution_count": null,
   "id": "7d63993d",
   "metadata": {},
   "outputs": [],
   "source": []
  },
  {
   "cell_type": "markdown",
   "id": "bed51433",
   "metadata": {},
   "source": [
    "정답 길이가 1이 아닌 text를 필터링 하세요"
   ]
  },
  {
   "cell_type": "code",
   "execution_count": null,
   "id": "26c0fa7f",
   "metadata": {},
   "outputs": [],
   "source": []
  },
  {
   "cell_type": "markdown",
   "id": "37109096",
   "metadata": {},
   "source": [
    "validation의 경우 정답이 여러개일 수도 있다."
   ]
  },
  {
   "cell_type": "code",
   "execution_count": 11,
   "id": "53871e28",
   "metadata": {},
   "outputs": [
    {
     "name": "stdout",
     "output_type": "stream",
     "text": [
      "{'answer_start': [177, 177, 177], 'text': ['Denver Broncos', 'Denver Broncos', 'Denver Broncos']}\n",
      "{'answer_start': [403, 355, 355], 'text': ['Santa Clara, California', \"Levi's Stadium\", \"Levi's Stadium in the San Francisco Bay Area at Santa Clara, California.\"]}\n"
     ]
    }
   ],
   "source": [
    "print(raw_datasets['validation'][0]['answers'])\n",
    "print(raw_datasets['validation'][2]['answers'])"
   ]
  },
  {
   "cell_type": "code",
   "execution_count": null,
   "id": "b182c660",
   "metadata": {},
   "outputs": [],
   "source": []
  }
 ],
 "metadata": {
  "kernelspec": {
   "display_name": "Python 3 (ipykernel)",
   "language": "python",
   "name": "python3"
  },
  "language_info": {
   "codemirror_mode": {
    "name": "ipython",
    "version": 3
   },
   "file_extension": ".py",
   "mimetype": "text/x-python",
   "name": "python",
   "nbconvert_exporter": "python",
   "pygments_lexer": "ipython3",
   "version": "3.7.11"
  }
 },
 "nbformat": 4,
 "nbformat_minor": 5
}
